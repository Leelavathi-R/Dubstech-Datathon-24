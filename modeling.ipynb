{
 "cells": [
  {
   "cell_type": "code",
   "execution_count": 1,
   "id": "2acb16e3",
   "metadata": {},
   "outputs": [],
   "source": [
    "import pandas as pd\n",
    "from sklearn.model_selection import train_test_split\n",
    "from sklearn.tree import DecisionTreeRegressor\n",
    "from sklearn.metrics import mean_squared_error\n",
    "from sklearn.preprocessing import LabelEncoder\n",
    "from sklearn.metrics import mean_squared_error, mean_absolute_error, r2_score\n",
    "import numpy as np"
   ]
  },
  {
   "cell_type": "code",
   "execution_count": 2,
   "id": "932df24b",
   "metadata": {},
   "outputs": [
    {
     "data": {
      "text/plain": [
       "(11778, 6)"
      ]
     },
     "execution_count": 2,
     "metadata": {},
     "output_type": "execute_result"
    }
   ],
   "source": [
    "extracted_df = pd.read_csv('./Data/cleaned_data.csv')\n",
    "extracted_df.shape"
   ]
  },
  {
   "cell_type": "markdown",
   "id": "bc8d9bd6",
   "metadata": {},
   "source": [
    "## Decision Tree model - kept 2023, 2024 data for test, remaining as train"
   ]
  },
  {
   "cell_type": "code",
   "execution_count": 3,
   "id": "6b1b11df",
   "metadata": {},
   "outputs": [
    {
     "name": "stdout",
     "output_type": "stream",
     "text": [
      "   Product ID  Order Month  Order Year  Product Unit Selling Price  \\\n",
      "0           0            9        2015                        0.00   \n",
      "1           1            4        2013                        3.95   \n",
      "2           1            4        2014                        3.95   \n",
      "3           1            4        2015                        4.10   \n",
      "4           1            4        2016                        4.10   \n",
      "\n",
      "   Product Quantity  Total Selling Price  \n",
      "0                 5                 0.00  \n",
      "1                13                51.35  \n",
      "2                 8                31.60  \n",
      "3                16                65.60  \n",
      "4                20                82.00  \n",
      "(10507, 6) (1271, 6)\n"
     ]
    }
   ],
   "source": [
    "label_encoder = LabelEncoder()\n",
    "\n",
    "extracted_df['Product ID'] = label_encoder.fit_transform(extracted_df['Product ID'])\n",
    "\n",
    "print(extracted_df.head())\n",
    "\n",
    "train_data = extracted_df[extracted_df['Order Year'] < 2023]\n",
    "test_data = extracted_df[extracted_df['Order Year'] >= 2023]\n",
    "\n",
    "print(train_data.shape,test_data.shape)\n",
    "X_train = train_data[['Product ID', 'Order Month', 'Order Year', 'Product Unit Selling Price']]\n",
    "y_train = train_data['Product Quantity']\n",
    "\n",
    "X_test = test_data[['Product ID', 'Order Month', 'Order Year', 'Product Unit Selling Price']]\n",
    "y_test = test_data['Product Quantity']\n",
    "\n",
    "X = train_data[['Product ID', 'Order Month', 'Order Year', 'Product Unit Selling Price']]\n",
    "y = train_data['Product Quantity']\n",
    "X_train, X_test, y_train, y_test = train_test_split(X, y, test_size=0.2, random_state=42)"
   ]
  },
  {
   "cell_type": "code",
   "execution_count": 6,
   "id": "6fb41d33",
   "metadata": {},
   "outputs": [
    {
     "name": "stdout",
     "output_type": "stream",
     "text": [
      "Mean Squared Error: 507.89724072312083\n",
      "Root Mean Squared Error: 22.53657562104591\n",
      "Mean Absolute Error: 9.219790675547099\n",
      "R-squared: 0.10952532606119714\n"
     ]
    }
   ],
   "source": [
    "model = DecisionTreeRegressor(random_state=42)\n",
    "model.fit(X_train, y_train)\n",
    "\n",
    "# Make predictions\n",
    "y_pred = model.predict(X_test)\n",
    "\n",
    "# Evaluate the model\n",
    "mse = mean_squared_error(y_test, y_pred)\n",
    "rmse = np.sqrt(mse)\n",
    "mae = mean_absolute_error(y_test, y_pred)\n",
    "r2 = r2_score(y_test, y_pred)\n",
    "\n",
    "print(\"Mean Squared Error:\", mse)\n",
    "print(\"Root Mean Squared Error:\", rmse)\n",
    "print(\"Mean Absolute Error:\", mae)\n",
    "print(\"R-squared:\", r2)"
   ]
  },
  {
   "cell_type": "code",
   "execution_count": 7,
   "id": "23fa69a2",
   "metadata": {},
   "outputs": [
    {
     "name": "stdout",
     "output_type": "stream",
     "text": [
      "Mean Squared Error: 541.7953445476443\n",
      "Root Mean Squared Error: 23.276497686457134\n",
      "Mean Absolute Error: 10.572621619076587\n",
      "R-squared: 0.05009321946556056\n"
     ]
    }
   ],
   "source": [
    "from sklearn.linear_model import LinearRegression\n",
    "\n",
    "model = LinearRegression()\n",
    "model.fit(X_train, y_train)\n",
    "\n",
    "# Make predictions\n",
    "y_pred = model.predict(X_test)\n",
    "\n",
    "# Evaluate the model\n",
    "\n",
    "mse = mean_squared_error(y_test, y_pred)\n",
    "rmse = np.sqrt(mse)\n",
    "mae = mean_absolute_error(y_test, y_pred)\n",
    "r2 = r2_score(y_test, y_pred)\n",
    "\n",
    "print(\"Mean Squared Error:\", mse)\n",
    "print(\"Root Mean Squared Error:\", rmse)\n",
    "print(\"Mean Absolute Error:\", mae)\n",
    "print(\"R-squared:\", r2)"
   ]
  },
  {
   "cell_type": "code",
   "execution_count": null,
   "id": "794b0a80",
   "metadata": {},
   "outputs": [],
   "source": []
  }
 ],
 "metadata": {
  "kernelspec": {
   "display_name": "Python 3 (ipykernel)",
   "language": "python",
   "name": "python3"
  },
  "language_info": {
   "codemirror_mode": {
    "name": "ipython",
    "version": 3
   },
   "file_extension": ".py",
   "mimetype": "text/x-python",
   "name": "python",
   "nbconvert_exporter": "python",
   "pygments_lexer": "ipython3",
   "version": "3.11.4"
  }
 },
 "nbformat": 4,
 "nbformat_minor": 5
}
